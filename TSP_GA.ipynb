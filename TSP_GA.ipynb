{
 "cells": [
  {
   "cell_type": "code",
   "execution_count": 19,
   "metadata": {},
   "outputs": [],
   "source": [
    "%matplotlib widget"
   ]
  },
  {
   "cell_type": "code",
   "execution_count": 20,
   "metadata": {},
   "outputs": [],
   "source": [
    "from graph import graph \n",
    "from state import state\n",
    "import matplotlib.pyplot as plt\n",
    "import numpy as np\n",
    "import random\n",
    "import pylab as pl\n",
    "from IPython import display\n",
    "import networkx as nx\n",
    "from copy import deepcopy\n",
    "import ipywidgets as widgets"
   ]
  },
  {
   "cell_type": "code",
   "execution_count": 21,
   "metadata": {},
   "outputs": [],
   "source": [
    "#WARNING: remember if size is greater than possible permutations, then this function will run indefinately \n",
    "def population_maker(graph:graph,start_idx,size):\n",
    "    choice = [i for i in range(graph.V) if i!=start_idx]\n",
    "    population=set()\n",
    "    while(len(population)<size):\n",
    "        path = [start_idx] + random.sample(choice,graph.V-1) + [start_idx]\n",
    "        population.add(state(graph,path))\n",
    "    return population "
   ]
  },
  {
   "cell_type": "code",
   "execution_count": 22,
   "metadata": {},
   "outputs": [],
   "source": [
    "def pair_maker(population):\n",
    "    pairs=set()\n",
    "    n=len(population)\n",
    "    #ranked pairing half and remaining are random\n",
    "    for i in range(0,n,2):\n",
    "        pairs.add((population[i],population[i+1]))\n",
    "    while(len(pairs)<n):\n",
    "        pairs.add(tuple(random.sample(population,2)))\n",
    "    return pairs"
   ]
  },
  {
   "cell_type": "code",
   "execution_count": 23,
   "metadata": {},
   "outputs": [],
   "source": [
    "def breeding(parent1,parent2):\n",
    "    stidx = parent1.start\n",
    "    gene1 = int(random.random() * len(parent1.path))\n",
    "    gene2 = int(random.random() * len(parent2.path))\n",
    "\n",
    "    startGene = min(gene1, gene2)\n",
    "    endGene = max(gene1, gene2)\n",
    "\n",
    "    cp1 = [parent1.path[i] for i in range(startGene,endGene) if parent1.path[i]!=stidx]\n",
    "    cp2 = [item for item in parent2.path if item not in cp1 and item != stidx]\n",
    "\n",
    "    return state(parent1.network, [stidx] + cp1 + cp2 + [stidx])"
   ]
  },
  {
   "cell_type": "code",
   "execution_count": 24,
   "metadata": {},
   "outputs": [],
   "source": [
    "#We breed randomly, carry the elites across without any breeding. should correct this eventually\n",
    "def breed_selected(pairs):\n",
    "    children=set()\n",
    "    for p1,p2 in pairs:\n",
    "        offspring = breeding(p1,p2)\n",
    "        while offspring in children:\n",
    "            offspring = breeding(p1,p2)\n",
    "        children.add(offspring)\n",
    "    return sorted(children,key = lambda x : x.path_dist)\n",
    "    # return children"
   ]
  },
  {
   "cell_type": "code",
   "execution_count": 25,
   "metadata": {},
   "outputs": [],
   "source": [
    "def mutate(child,threshold):\n",
    "    n = len(child.path)\n",
    "    for startidx in range(1,n-1):\n",
    "        if(random.random()<threshold):\n",
    "            endidx = int(random.random()*(n-2))+1\n",
    "            child.swap_city(startidx,endidx)\n",
    "            break #this is crucial if you want controlled mutation.\n",
    "    return child"
   ]
  },
  {
   "cell_type": "code",
   "execution_count": 26,
   "metadata": {},
   "outputs": [],
   "source": [
    "def mutate_next_generation(population,children,threshold,elite_fraction):\n",
    "    parent_cutoff = int(len(population)*elite_fraction)\n",
    "    mutated = set(population[:parent_cutoff])\n",
    "    n,count=len(children),0\n",
    "    # while(count<n-parent_cutoff):\n",
    "    while(len(mutated)<n):\n",
    "        child = children[count]\n",
    "        mut_child = mutate(child,threshold)\n",
    "        if(mut_child not in mutated):\n",
    "            mutated.add(mut_child)\n",
    "            count+=1\n",
    "    return sorted(mutated,key = lambda x : x.path_dist)"
   ]
  },
  {
   "cell_type": "code",
   "execution_count": 27,
   "metadata": {},
   "outputs": [],
   "source": [
    "def print_pop(population,gen):\n",
    "    print(\"current gen: \",gen)\n",
    "    # for child in population:\n",
    "    #     print(child)\n",
    "    print(population[0])\n",
    "    print(\"------------------------------------\")"
   ]
  },
  {
   "cell_type": "code",
   "execution_count": 28,
   "metadata": {},
   "outputs": [],
   "source": [
    "def show_graph(G,hero,threshold,gen,pos=None):\n",
    "    Gnx = nx.Graph()\n",
    "    curr_city = hero.path[0]\n",
    "    for next_city in hero.path[1:]:\n",
    "        #keep 999 instead of infinity to keep graph intact\n",
    "        dist = 10**8 if next_city not in G.adj_list[curr_city] else G.adj_list[curr_city][next_city]\n",
    "        s,e,w = curr_city , next_city , dist\n",
    "        Gnx.add_edge(s,e,weight=w)\n",
    "        curr_city=next_city\n",
    "    if not pos:\n",
    "        pos=nx.kamada_kawai_layout(Gnx) #change layout if needed\n",
    "    labels = nx.get_edge_attributes(Gnx,'weight')\n",
    "    # nx.draw(Gnx)\n",
    "    colors=['lime']*G.V\n",
    "    act2nx = dict(zip(Gnx.nodes(),range(G.V)))\n",
    "    colors[act2nx[curr_city]] = 'red'\n",
    "\n",
    "    # print(act2nx)\n",
    "    # pdf = PdfPages('out.pdf')\n",
    "    pl.figure(1,figsize=(16,12)) \n",
    "    nx.draw_networkx_edge_labels(Gnx,pos,edge_labels=labels)\n",
    "    nx.draw_networkx(Gnx,pos,arrows=True,node_color=colors,node_size=100,width=0.5)\n",
    "    pl.text(0.8, 0.9, 'Gen: {0} | Cost: {1} | M.Rate: {2}'.format(gen,hero.path_dist,threshold), fontsize = 18)\n",
    "    pl.plot()\n",
    "    display.clear_output(wait=True)\n",
    "    display.display(pl.gcf())\n",
    "    pl.clf()\n",
    "    return pos\n",
    "    # pdf.savefig(plt.gcf())\n",
    "    # for node in visited:\n",
    "    #     colors[act2nx[node]]='blue'\n",
    "    #     nx.draw_networkx(Gnx,pos,node_color=colors,node_size=50,width=0.1)\n",
    "    #     pdf.savefig(plt.gcf())\n",
    "    # pdf.close()\n",
    "    # plt.show()"
   ]
  },
  {
   "cell_type": "markdown",
   "metadata": {},
   "source": [
    "# TSP with Genetic Algorithm"
   ]
  },
  {
   "cell_type": "code",
   "execution_count": 29,
   "metadata": {
    "tags": []
   },
   "outputs": [],
   "source": [
    "def run_tsp(obj):\n",
    "    # G = graph('dantzig42-699.txt')\n",
    "    # G = graph('att48_33523.txt')\n",
    "    G = graph(filename_wid.value)\n",
    "\n",
    "#     start_city_idx = 0\n",
    "#     threshold = 0.05\n",
    "#     elite_fraction = 0.3\n",
    "#     gen_size = 20\n",
    "#     generations = 100 # hardcoded rn\n",
    "#     print_interval = generations//50\n",
    "\n",
    "    start_city_idx = 0\n",
    "    threshold = threshold_wid.value\n",
    "    elite_fraction = elite_fraction_wid.value\n",
    "    gen_size = gen_size_wid.value\n",
    "    generations = generations_wid.value # hardcoded rn\n",
    "    print_interval = generations//50\n",
    "\n",
    "#     def obs_mut_rate(change):\n",
    "#         global threshold\n",
    "#         threshold = threshold_wid.value\n",
    "#     threshold_wid.observe(obs_mut_rate)\n",
    "    \n",
    "    population = sorted(population_maker(G,start_city_idx,gen_size),key=lambda x:x.path_dist)\n",
    "\n",
    "    hero = population[0]\n",
    "    herodb=[]\n",
    "    pos = None\n",
    "    \n",
    "    out_wid.clear_output()\n",
    "    with out_wid:\n",
    "        for gen in range(generations):\n",
    "            #uncomment this for real time updating:----------------not working :(\n",
    "            \n",
    "#             threshold = threshold_wid.value\n",
    "            \n",
    "            \n",
    "            hero = deepcopy(min(hero,population[0])) #remembers the best possible offspring we have ever bred. this will be returned\n",
    "            #uncomment to print all children in a generation\n",
    "            # print_pop(population,gen)\n",
    "            pairs = pair_maker(population)\n",
    "            children = breed_selected(pairs)\n",
    "            hero = deepcopy(min(hero,children[0]))\n",
    "            herodb.append(hero.path_dist)\n",
    "            population = mutate_next_generation(population,children,threshold,elite_fraction)\n",
    "            if(gen%print_interval==0):\n",
    "                pos = show_graph(G,hero,threshold,gen,pos)\n",
    "\n",
    "\n",
    "\n",
    "        print(\"best path found: \",hero)\n",
    "        pl.figure(2,figsize=(10,8))\n",
    "        pl.xlabel('Generations')\n",
    "        pl.ylabel('Path Cost')\n",
    "        pl.plot(range(generations),herodb,\"b\",label=\"hero stat\")\n",
    "        pl.show()"
   ]
  },
  {
   "cell_type": "code",
   "execution_count": 12,
   "metadata": {},
   "outputs": [],
   "source": [
    "# run_tsp(None)"
   ]
  },
  {
   "cell_type": "code",
   "execution_count": 30,
   "metadata": {},
   "outputs": [
    {
     "data": {
      "application/vnd.jupyter.widget-view+json": {
       "model_id": "c99b6f345c704931a9c2e17c551ab556",
       "version_major": 2,
       "version_minor": 0
      },
      "text/plain": [
       "HBox(children=(VBox(children=(Textarea(value='graph50.txt', description='InputFile:', placeholder='graph50.txt…"
      ]
     },
     "metadata": {},
     "output_type": "display_data"
    },
    {
     "data": {
      "application/vnd.jupyter.widget-view+json": {
       "model_id": "9a17a74928974ed3930c039c40866a17",
       "version_major": 2,
       "version_minor": 0
      },
      "text/plain": [
       "Output(layout=Layout(border='1px solid black'))"
      ]
     },
     "metadata": {},
     "output_type": "display_data"
    }
   ],
   "source": [
    "# start_city_idx = 0\n",
    "# threshold = 0.05\n",
    "# elite_fraction = 0.3\n",
    "# gen_size = 20\n",
    "# generations = 200 # hardcoded rn\n",
    "# print_interval = generations//50\n",
    "\n",
    "out_wid = widgets.Output(layout={'border': '1px solid black'})\n",
    "\n",
    "generations_wid = widgets.IntText(value=2000,description=\"generations:\")\n",
    "gen_size_wid = widgets.IntText(value=100,description=\"gen size:\")\n",
    "threshold_wid = widgets.FloatSlider(min=0,max=1,step=0.01,description='mutation:',value=0.20)\n",
    "elite_fraction_wid = widgets.FloatSlider(min=0,max=1,step=0.01,description='super elites:',value=0.40)\n",
    "run_tsp_btn = widgets.Button(description='Start TSP')\n",
    "filename_wid = widgets.Textarea(value='graph50.txt',placeholder='graph50.txt',description='InputFile:',disabled=False)\n",
    "run_tsp_btn.on_click(run_tsp)\n",
    "# label = widgets.Label('TSP with Genetic Algorithm')\n",
    "t_box = widgets.VBox([filename_wid,run_tsp_btn])\n",
    "l_box = widgets.VBox([generations_wid,gen_size_wid])\n",
    "r_box = widgets.VBox([threshold_wid , elite_fraction_wid])\n",
    "display.display(widgets.HBox([t_box,l_box,r_box]))\n",
    "display.display(out_wid)"
   ]
  },
  {
   "cell_type": "code",
   "execution_count": 14,
   "metadata": {},
   "outputs": [],
   "source": [
    "# display.display(\"TSP Problem\",generations_wid,gen_size_wid,threshold_wid,elite_fraction_wid,run_tsp_btn)"
   ]
  }
 ],
 "metadata": {
  "interpreter": {
   "hash": "7706d00cdb259a29e57d9bbde8b99a36ab5b874edc733f1acb2572848daa1ec1"
  },
  "kernelspec": {
   "display_name": "Python 3 (ipykernel)",
   "language": "python",
   "name": "python3"
  },
  "language_info": {
   "codemirror_mode": {
    "name": "ipython",
    "version": 3
   },
   "file_extension": ".py",
   "mimetype": "text/x-python",
   "name": "python",
   "nbconvert_exporter": "python",
   "pygments_lexer": "ipython3",
   "version": "3.9.6"
  }
 },
 "nbformat": 4,
 "nbformat_minor": 4
}
